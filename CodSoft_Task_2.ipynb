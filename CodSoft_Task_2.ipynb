{
 "cells": [
  {
   "cell_type": "code",
   "execution_count": 2,
   "id": "41a2d787",
   "metadata": {},
   "outputs": [],
   "source": [
    "def calculate(num1, mum2, operation):\n",
    "    result = 0\n",
    "    if operation == 1:\n",
    "        result = num1 + num2\n",
    "    elif operation == 2:\n",
    "        result = num1 - num2\n",
    "    elif operation == 3:\n",
    "        result = num1 * num2\n",
    "    elif operation == 4:\n",
    "        result = num1 / num2\n",
    "        \n",
    "    return result"
   ]
  },
  {
   "cell_type": "code",
   "execution_count": 4,
   "id": "ee2d2a50",
   "metadata": {},
   "outputs": [
    {
     "name": "stdout",
     "output_type": "stream",
     "text": [
      "Enter first number:3\n",
      "Enter second number:4\n",
      "Select operation:\n",
      " 1. Addition\n",
      " 2. Subtraction\n",
      " 3. Multiplication\n",
      " 4. Division\n",
      "Enter your choice:1\n",
      "Result: 7\n"
     ]
    }
   ],
   "source": [
    "num1 = int(input(\"Enter first number:\"))\n",
    "num2 = int(input(\"Enter second number:\"))\n",
    "print(\"Select operation:\\n 1. Addition\\n 2. Subtraction\\n 3. Multiplication\\n 4. Division\")\n",
    "choice = int(input(\"Enter your choice:\"))\n",
    "result = calculate(num1, num2, choice)\n",
    "print(\"Result:\", result)"
   ]
  },
  {
   "cell_type": "code",
   "execution_count": null,
   "id": "4df39690",
   "metadata": {},
   "outputs": [],
   "source": []
  }
 ],
 "metadata": {
  "kernelspec": {
   "display_name": "Python 3 (ipykernel)",
   "language": "python",
   "name": "python3"
  },
  "language_info": {
   "codemirror_mode": {
    "name": "ipython",
    "version": 3
   },
   "file_extension": ".py",
   "mimetype": "text/x-python",
   "name": "python",
   "nbconvert_exporter": "python",
   "pygments_lexer": "ipython3",
   "version": "3.11.5"
  }
 },
 "nbformat": 4,
 "nbformat_minor": 5
}
